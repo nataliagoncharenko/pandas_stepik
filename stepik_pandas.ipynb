{
 "cells": [
  {
   "cell_type": "code",
   "execution_count": 1,
   "id": "cdf4a342-b357-4e59-a622-66f47489a630",
   "metadata": {},
   "outputs": [],
   "source": [
    "import pandas as pd"
   ]
  },
  {
   "cell_type": "code",
   "execution_count": 2,
   "id": "937e22ae-81d7-4816-9dc4-54ef4218042e",
   "metadata": {},
   "outputs": [
    {
     "data": {
      "text/html": [
       "<div>\n",
       "<style scoped>\n",
       "    .dataframe tbody tr th:only-of-type {\n",
       "        vertical-align: middle;\n",
       "    }\n",
       "\n",
       "    .dataframe tbody tr th {\n",
       "        vertical-align: top;\n",
       "    }\n",
       "\n",
       "    .dataframe thead th {\n",
       "        text-align: right;\n",
       "    }\n",
       "</style>\n",
       "<table border=\"1\" class=\"dataframe\">\n",
       "  <thead>\n",
       "    <tr style=\"text-align: right;\">\n",
       "      <th></th>\n",
       "      <th>Survived</th>\n",
       "      <th>Pclass</th>\n",
       "      <th>Name</th>\n",
       "      <th>Sex</th>\n",
       "      <th>Age</th>\n",
       "      <th>Siblings/Spouses Aboard</th>\n",
       "      <th>Parents/Children Aboard</th>\n",
       "      <th>Fare</th>\n",
       "    </tr>\n",
       "  </thead>\n",
       "  <tbody>\n",
       "    <tr>\n",
       "      <th>0</th>\n",
       "      <td>0</td>\n",
       "      <td>3</td>\n",
       "      <td>Mr. Owen Harris Braund</td>\n",
       "      <td>male</td>\n",
       "      <td>22.0</td>\n",
       "      <td>1</td>\n",
       "      <td>0</td>\n",
       "      <td>7.2500</td>\n",
       "    </tr>\n",
       "    <tr>\n",
       "      <th>1</th>\n",
       "      <td>1</td>\n",
       "      <td>1</td>\n",
       "      <td>Mrs. John Bradley (Florence Briggs Thayer) Cum...</td>\n",
       "      <td>female</td>\n",
       "      <td>38.0</td>\n",
       "      <td>1</td>\n",
       "      <td>0</td>\n",
       "      <td>71.2833</td>\n",
       "    </tr>\n",
       "    <tr>\n",
       "      <th>2</th>\n",
       "      <td>1</td>\n",
       "      <td>3</td>\n",
       "      <td>Miss. Laina Heikkinen</td>\n",
       "      <td>female</td>\n",
       "      <td>26.0</td>\n",
       "      <td>0</td>\n",
       "      <td>0</td>\n",
       "      <td>7.9250</td>\n",
       "    </tr>\n",
       "    <tr>\n",
       "      <th>3</th>\n",
       "      <td>1</td>\n",
       "      <td>1</td>\n",
       "      <td>Mrs. Jacques Heath (Lily May Peel) Futrelle</td>\n",
       "      <td>female</td>\n",
       "      <td>35.0</td>\n",
       "      <td>1</td>\n",
       "      <td>0</td>\n",
       "      <td>53.1000</td>\n",
       "    </tr>\n",
       "    <tr>\n",
       "      <th>4</th>\n",
       "      <td>0</td>\n",
       "      <td>3</td>\n",
       "      <td>Mr. William Henry Allen</td>\n",
       "      <td>male</td>\n",
       "      <td>35.0</td>\n",
       "      <td>0</td>\n",
       "      <td>0</td>\n",
       "      <td>8.0500</td>\n",
       "    </tr>\n",
       "  </tbody>\n",
       "</table>\n",
       "</div>"
      ],
      "text/plain": [
       "   Survived  Pclass                                               Name  \\\n",
       "0         0       3                             Mr. Owen Harris Braund   \n",
       "1         1       1  Mrs. John Bradley (Florence Briggs Thayer) Cum...   \n",
       "2         1       3                              Miss. Laina Heikkinen   \n",
       "3         1       1        Mrs. Jacques Heath (Lily May Peel) Futrelle   \n",
       "4         0       3                            Mr. William Henry Allen   \n",
       "\n",
       "      Sex   Age  Siblings/Spouses Aboard  Parents/Children Aboard     Fare  \n",
       "0    male  22.0                        1                        0   7.2500  \n",
       "1  female  38.0                        1                        0  71.2833  \n",
       "2  female  26.0                        0                        0   7.9250  \n",
       "3  female  35.0                        1                        0  53.1000  \n",
       "4    male  35.0                        0                        0   8.0500  "
      ]
     },
     "execution_count": 2,
     "metadata": {},
     "output_type": "execute_result"
    }
   ],
   "source": [
    "df = pd.read_csv('titanic_s.csv')\n",
    "df.head()"
   ]
  },
  {
   "cell_type": "code",
   "execution_count": 3,
   "id": "b8ced5a7-3957-4a43-a715-d1ffe563effc",
   "metadata": {},
   "outputs": [
    {
     "name": "stdout",
     "output_type": "stream",
     "text": [
      "Общий объем датасета: 887\n"
     ]
    }
   ],
   "source": [
    "#Используя chunksize, подсчитайте общее количество строк в датасете.\n",
    "chunk_size = 1000\n",
    "chunks = pd.read_csv('titanic_s.csv', chunksize=chunk_size)\n",
    "\n",
    "\n",
    "total_count = 0\n",
    "for chunk in chunks:\n",
    "    total_count += len(chunk)\n",
    "\n",
    "print(f\"Общий объем датасета: {total_count}\")"
   ]
  },
  {
   "cell_type": "code",
   "execution_count": null,
   "id": "d564a708-90d7-4c87-bb79-bca47fa87e4e",
   "metadata": {},
   "outputs": [],
   "source": [
    "#Сколько пассажиров выжило (Survived = 1) на всем корабле? Используйте чтение данных чанками (chunksize = 100)."
   ]
  },
  {
   "cell_type": "code",
   "execution_count": 4,
   "id": "f9537dd4-8dba-4b1f-9bd9-c24741e8a17a",
   "metadata": {},
   "outputs": [
    {
     "name": "stdout",
     "output_type": "stream",
     "text": [
      "29.5\n"
     ]
    }
   ],
   "source": [
    "#Найдите средний возраст всех пассажиров. Округлите результат до одного знака после запятой. Используйте chunksize.\n",
    "chunk_size = 100\n",
    "chunks = pd.read_csv('titanic_s.csv', chunksize=chunk_size)\n",
    "total_age = 0\n",
    "total_count = 0\n",
    "for chunk in chunks:\n",
    "    total_age += chunk['Age'].sum()\n",
    "    total_count+= chunk['Age'].count()\n",
    "average = round(total_age / total_count,1)\n",
    "print(average)"
   ]
  },
  {
   "cell_type": "code",
   "execution_count": 5,
   "id": "829f46dc-5d38-4899-9db7-f2ade0af8296",
   "metadata": {},
   "outputs": [
    {
     "name": "stdout",
     "output_type": "stream",
     "text": [
      "72\n"
     ]
    }
   ],
   "source": [
    "#Подсчитайте, сколько пассажиров имеют возраст старше 50 лет (Age > 50).\n",
    "chunk_size = 100\n",
    "chunks = pd.read_csv('titanic_s.csv', chunksize=chunk_size)\n",
    "total_age_50 = 0\n",
    "for chunk in chunks:\n",
    "    total_age_50 += (chunk['Age'] > 50).sum()\n",
    "print(total_age_50)"
   ]
  },
  {
   "cell_type": "code",
   "execution_count": 7,
   "id": "1e1ef14c-b89f-4f81-a792-fbd23ed1ee59",
   "metadata": {},
   "outputs": [
    {
     "name": "stdout",
     "output_type": "stream",
     "text": [
      "512.3292\n"
     ]
    }
   ],
   "source": [
    "#Найдите максимальное значение в колонке Fare по всему датасету. Используйте chunksize = 200\n",
    "chunk_size = 200\n",
    "chunks = pd.read_csv('titanic_s.csv', chunksize=chunk_size)\n",
    "max_fare = 0\n",
    "for chunk in chunks:\n",
    "    chunk_max=chunk['Fare'].max()\n",
    "    if chunk_max > max_fare:\n",
    "        max_fare = chunk_max\n",
    "print(max_fare)\n",
    "        "
   ]
  },
  {
   "cell_type": "code",
   "execution_count": 11,
   "id": "260b748f-ca9d-4d22-8787-38ff4e7c3381",
   "metadata": {},
   "outputs": [
    {
     "name": "stdout",
     "output_type": "stream",
     "text": [
      "487\n"
     ]
    }
   ],
   "source": [
    "#Сколько пассажиров находилось в третьем классе (Pclass = 3)\n",
    "chunk_size = 200\n",
    "chunks = pd.read_csv('titanic_s.csv', chunksize=chunk_size)\n",
    "count = 0\n",
    "for chunk in chunks:\n",
    "    filtered_chunk = chunk[(chunk['Pclass'] == 3)]\n",
    "    count += len(filtered_chunk)\n",
    "print(count)"
   ]
  },
  {
   "cell_type": "code",
   "execution_count": null,
   "id": "e0a3d4da-7659-42f6-82a4-f36d1459c204",
   "metadata": {},
   "outputs": [],
   "source": []
  }
 ],
 "metadata": {
  "kernelspec": {
   "display_name": "Python 3 (ipykernel)",
   "language": "python",
   "name": "python3"
  },
  "language_info": {
   "codemirror_mode": {
    "name": "ipython",
    "version": 3
   },
   "file_extension": ".py",
   "mimetype": "text/x-python",
   "name": "python",
   "nbconvert_exporter": "python",
   "pygments_lexer": "ipython3",
   "version": "3.12.3"
  }
 },
 "nbformat": 4,
 "nbformat_minor": 5
}
